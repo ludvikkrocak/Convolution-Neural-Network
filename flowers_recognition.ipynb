{
  "nbformat": 4,
  "nbformat_minor": 0,
  "metadata": {
    "colab": {
      "provenance": []
    },
    "kernelspec": {
      "name": "python3",
      "display_name": "Python 3"
    },
    "language_info": {
      "name": "python"
    }
  },
  "cells": [
    {
      "cell_type": "code",
      "source": [
        "import tensorflow as tf\n",
        "from tensorflow.keras.preprocessing.image import ImageDataGenerator\n",
        "from tensorflow.keras.callbacks import EarlyStopping\n",
        "from tensorflow.keras.models import Sequential\n",
        "from tensorflow.keras.layers import Conv2D, MaxPooling2D, Flatten, Dense, Dropout\n",
        "from tensorflow.keras.metrics import Accuracy, F1Score\n",
        "import os\n",
        "import cv2\n",
        "import numpy as np\n"
      ],
      "metadata": {
        "id": "ZR4UyneP49xq"
      },
      "execution_count": null,
      "outputs": []
    },
    {
      "cell_type": "code",
      "source": [
        "from google.colab import drive\n",
        "drive.mount('/content/drive')"
      ],
      "metadata": {
        "colab": {
          "base_uri": "https://localhost:8080/"
        },
        "id": "gVQLHHhl5_id",
        "outputId": "7146f561-ff9e-443c-a78e-2cf0ac9e6710"
      },
      "execution_count": null,
      "outputs": [
        {
          "output_type": "stream",
          "name": "stdout",
          "text": [
            "Mounted at /content/drive\n"
          ]
        }
      ]
    },
    {
      "cell_type": "code",
      "source": [
        "data_folders = [\n",
        "    '/content/drive/MyDrive/flowers_recognition/flowers/sunflower',\n",
        "    '/content/drive/MyDrive/flowers_recognition/flowers/tulip',\n",
        "    '/content/drive/MyDrive/flowers_recognition/flowers/dandelion',\n",
        "    '/content/drive/MyDrive/flowers_recognition/flowers/rose',\n",
        "    '/content/drive/MyDrive/flowers_recognition/flowers/daisy'\n",
        "]\n",
        "\n",
        "for i, folder in enumerate(data_folders, start=1):\n",
        "    num_files = len(os.listdir(folder))\n",
        "    print(f\"Dataset {i}: Počet obrázků = {num_files}\")"
      ],
      "metadata": {
        "colab": {
          "base_uri": "https://localhost:8080/"
        },
        "id": "E4MxRjbrItDc",
        "outputId": "c4570899-bda1-486a-8bb0-10862994d991"
      },
      "execution_count": null,
      "outputs": [
        {
          "output_type": "stream",
          "name": "stdout",
          "text": [
            "Dataset 1: Počet obrázků = 733\n",
            "Dataset 2: Počet obrázků = 984\n",
            "Dataset 3: Počet obrázků = 1052\n",
            "Dataset 4: Počet obrázků = 784\n",
            "Dataset 5: Počet obrázků = 764\n"
          ]
        }
      ]
    },
    {
      "cell_type": "code",
      "source": [
        "# Cesta k datům\n",
        "data_dir = '/content/drive/MyDrive/flowers_recognition/flowers'\n",
        "\n",
        "# Cílová velikost obrázků\n",
        "target_size = (224, 224)\n",
        "\n",
        "# Vytvoření generátorů pro trénovací a validační data\n",
        "datagen = ImageDataGenerator(rescale=1.0/255, validation_split=0.2)\n",
        "\n",
        "train_gen = datagen.flow_from_directory(\n",
        "    data_dir,\n",
        "    target_size=target_size,\n",
        "    class_mode='categorical',\n",
        "    subset='training'\n",
        ")\n",
        "\n",
        "val_gen = datagen.flow_from_directory(\n",
        "    data_dir,\n",
        "    target_size=target_size,\n",
        "    class_mode='categorical',\n",
        "    subset='validation'\n",
        ")"
      ],
      "metadata": {
        "colab": {
          "base_uri": "https://localhost:8080/"
        },
        "id": "TraSp-wg5nam",
        "outputId": "7f95b9e1-0a6e-40f9-9273-69f996b61dc2"
      },
      "execution_count": null,
      "outputs": [
        {
          "output_type": "stream",
          "name": "stdout",
          "text": [
            "Found 3457 images belonging to 5 classes.\n",
            "Found 860 images belonging to 5 classes.\n"
          ]
        }
      ]
    },
    {
      "cell_type": "code",
      "source": [
        "target_size = (224, 224)\n",
        "\n",
        "def prepare_image(image_path, target_size):\n",
        "    image = cv2.imread(image_path)\n",
        "    original_height, original_width, _ = image.shape\n",
        "\n",
        "    # Určení poměru stran pro zmenšení na cílový rozměr\n",
        "    width_ratio = target_size[0] / original_width\n",
        "    height_ratio = target_size[1] / original_height\n",
        "\n",
        "    # Určení menšího poměru pro zachování původního poměru stran\n",
        "    min_ratio = min(width_ratio, height_ratio)\n",
        "\n",
        "    # Výpočet nových rozměrů\n",
        "    new_width = int(original_width * min_ratio)\n",
        "    new_height = int(original_height * min_ratio)\n",
        "\n",
        "    # Zmenšení obrázku\n",
        "    resized_image = cv2.resize(image, (new_width, new_height))\n",
        "\n",
        "    # Vytvoření prázdného obrázku cílové velikosti\n",
        "    final_image = np.zeros((*target_size, 3), dtype=np.uint8)\n",
        "\n",
        "    # Umístění zmenšeného obrázku do středu cílového obrázku\n",
        "    start_x = (target_size[0] - new_width) // 2\n",
        "    start_y = (target_size[1] - new_height) // 2\n",
        "    final_image[start_y:start_y+new_height, start_x:start_x+new_width] = resized_image\n",
        "\n",
        "    return final_image\n",
        "\n",
        "# Načítání a příprava obrázků\n",
        "image_list = []\n",
        "label_list = []\n",
        "\n",
        "class_names = os.listdir(data_dir)\n",
        "\n",
        "for class_name in class_names:\n",
        "    class_dir = os.path.join(data_dir, class_name)\n",
        "    for image_name in os.listdir(class_dir):\n",
        "        if image_name.endswith('.jpg'):\n",
        "            image_path = os.path.join(class_dir, image_name)\n",
        "            prepared_image = prepare_image(image_path, target_size)\n",
        "            image_list.append(prepared_image)\n",
        "            label_list.append(class_name)\n",
        "\n",
        "# Převedení na numpy pole\n",
        "images = np.array(image_list)\n",
        "labels = np.array(label_list)\n"
      ],
      "metadata": {
        "id": "EIU_gR_TEhKW"
      },
      "execution_count": null,
      "outputs": []
    },
    {
      "cell_type": "code",
      "source": [
        "# Vytvoření modelu\n",
        "model = Sequential()\n",
        "model.add(Conv2D(64, (3, 3), padding='same', activation='relu', input_shape=(224, 224, 3)))\n",
        "model.add(Conv2D(32, (3, 3), padding='same', activation='relu'))\n",
        "model.add(Conv2D(32, (3, 3), padding='same', activation='relu'))\n",
        "model.add(Conv2D(32, (3, 3), padding='same', activation='relu'))\n",
        "model.add(MaxPooling2D((2, 2)))\n",
        "model.add(Conv2D(64, (3, 3), padding='same', activation='relu'))\n",
        "model.add(Conv2D(32, (3, 3), padding='same', activation='relu'))\n",
        "model.add(Conv2D(32, (3, 3), padding='same', activation='relu'))\n",
        "model.add(Conv2D(32, (3, 3), padding='same', activation='relu'))\n",
        "model.add(MaxPooling2D((2, 2)))\n",
        "model.add(Conv2D(64, (3, 3), padding='same', activation='relu'))\n",
        "model.add(Conv2D(32, (3, 3), padding='same', activation='relu'))\n",
        "model.add(Conv2D(32, (3, 3), padding='same', activation='relu'))\n",
        "model.add(Conv2D(32, (3, 3), padding='same', activation='relu'))\n",
        "model.add(MaxPooling2D((2, 2)))\n",
        "\n",
        "    #FC layers\n",
        "\n",
        "model.add(Flatten())\n",
        "model.add(Dense(128, activation='relu'))\n",
        "model.add(Dropout(0.2))\n",
        "model.add(Dense(128, activation='relu'))\n",
        "model.add(Dense(5, activation='softmax'))\n",
        "\n",
        "# Kompilace modelu\n",
        "model.compile(optimizer='adam', loss='categorical_crossentropy', metrics=['accuracy'])\n",
        "\n",
        "# Trénování modelu\n",
        "early_stopping = EarlyStopping(monitor='val_loss', patience=3, restore_best_weights=True)\n",
        "model.fit(train_gen, epochs=15, validation_data=val_gen, callbacks=[early_stopping])\n",
        "\n",
        "# Evaluate the model on the validation generator\n",
        "val_loss, val_acc = model.evaluate(val_gen)\n",
        "print(f\"Validation accuracy: {val_acc}\")\n",
        "\n",
        "\n",
        "# Summary of the model\n",
        "model.summary()"
      ],
      "metadata": {
        "colab": {
          "base_uri": "https://localhost:8080/"
        },
        "id": "UTcx7tt44dP8",
        "outputId": "87737e59-b884-40ab-f689-fcf0bf158f09"
      },
      "execution_count": null,
      "outputs": [
        {
          "output_type": "stream",
          "name": "stdout",
          "text": [
            "Epoch 1/15\n",
            "109/109 [==============================] - 2124s 19s/step - loss: 1.6032 - accuracy: 0.2308 - val_loss: 1.6004 - val_accuracy: 0.2442\n",
            "Epoch 2/15\n",
            "109/109 [==============================] - 2079s 19s/step - loss: 1.6013 - accuracy: 0.2395 - val_loss: 1.5992 - val_accuracy: 0.2279\n",
            "Epoch 3/15\n",
            "109/109 [==============================] - ETA: 0s - loss: 1.5996 - accuracy: 0.2517 "
          ]
        }
      ]
    }
  ]
}